{
 "cells": [
  {
   "cell_type": "code",
   "execution_count": 1,
   "id": "37385cb9",
   "metadata": {},
   "outputs": [],
   "source": [
    "import pandas as pd\n",
    "import numpy as np\n"
   ]
  },
  {
   "cell_type": "markdown",
   "id": "472dac57",
   "metadata": {},
   "source": [
    "# TASK_5"
   ]
  },
  {
   "cell_type": "code",
   "execution_count": 3,
   "id": "3f0c3182",
   "metadata": {},
   "outputs": [
    {
     "data": {
      "text/html": [
       "<div>\n",
       "<style scoped>\n",
       "    .dataframe tbody tr th:only-of-type {\n",
       "        vertical-align: middle;\n",
       "    }\n",
       "\n",
       "    .dataframe tbody tr th {\n",
       "        vertical-align: top;\n",
       "    }\n",
       "\n",
       "    .dataframe thead th {\n",
       "        text-align: right;\n",
       "    }\n",
       "</style>\n",
       "<table border=\"1\" class=\"dataframe\">\n",
       "  <thead>\n",
       "    <tr style=\"text-align: right;\">\n",
       "      <th></th>\n",
       "      <th>vendor_id</th>\n",
       "      <th>passenger_count</th>\n",
       "      <th>store_and_fwd_flag</th>\n",
       "      <th>distance_km</th>\n",
       "      <th>log_trip_duration</th>\n",
       "    </tr>\n",
       "    <tr>\n",
       "      <th>id</th>\n",
       "      <th></th>\n",
       "      <th></th>\n",
       "      <th></th>\n",
       "      <th></th>\n",
       "      <th></th>\n",
       "    </tr>\n",
       "  </thead>\n",
       "  <tbody>\n",
       "    <tr>\n",
       "      <th>id2875421</th>\n",
       "      <td>1</td>\n",
       "      <td>930.399753</td>\n",
       "      <td>0</td>\n",
       "      <td>1.500479</td>\n",
       "      <td>6.122493</td>\n",
       "    </tr>\n",
       "    <tr>\n",
       "      <th>id2377394</th>\n",
       "      <td>0</td>\n",
       "      <td>930.399753</td>\n",
       "      <td>0</td>\n",
       "      <td>1.807119</td>\n",
       "      <td>6.498282</td>\n",
       "    </tr>\n",
       "    <tr>\n",
       "      <th>id3858529</th>\n",
       "      <td>1</td>\n",
       "      <td>930.399753</td>\n",
       "      <td>0</td>\n",
       "      <td>6.392080</td>\n",
       "      <td>7.661527</td>\n",
       "    </tr>\n",
       "    <tr>\n",
       "      <th>id3504673</th>\n",
       "      <td>1</td>\n",
       "      <td>930.399753</td>\n",
       "      <td>0</td>\n",
       "      <td>1.487155</td>\n",
       "      <td>6.063785</td>\n",
       "    </tr>\n",
       "    <tr>\n",
       "      <th>id2181028</th>\n",
       "      <td>1</td>\n",
       "      <td>930.399753</td>\n",
       "      <td>0</td>\n",
       "      <td>1.189925</td>\n",
       "      <td>6.077642</td>\n",
       "    </tr>\n",
       "  </tbody>\n",
       "</table>\n",
       "</div>"
      ],
      "text/plain": [
       "           vendor_id  passenger_count  store_and_fwd_flag  distance_km  \\\n",
       "id                                                                       \n",
       "id2875421          1       930.399753                   0     1.500479   \n",
       "id2377394          0       930.399753                   0     1.807119   \n",
       "id3858529          1       930.399753                   0     6.392080   \n",
       "id3504673          1       930.399753                   0     1.487155   \n",
       "id2181028          1       930.399753                   0     1.189925   \n",
       "\n",
       "           log_trip_duration  \n",
       "id                            \n",
       "id2875421           6.122493  \n",
       "id2377394           6.498282  \n",
       "id3858529           7.661527  \n",
       "id3504673           6.063785  \n",
       "id2181028           6.077642  "
      ]
     },
     "execution_count": 3,
     "metadata": {},
     "output_type": "execute_result"
    }
   ],
   "source": [
    "df = pd.read_csv('processed_data.csv', index_col = 'id')\n",
    "df.head()"
   ]
  },
  {
   "cell_type": "code",
   "execution_count": 11,
   "id": "a8b0218e",
   "metadata": {},
   "outputs": [],
   "source": [
    "X = df.drop('log_trip_duration', axis = 1)\n",
    "Y = df['log_trip_duration']"
   ]
  },
  {
   "cell_type": "code",
   "execution_count": null,
   "id": "31e3bb65",
   "metadata": {},
   "outputs": [],
   "source": []
  },
  {
   "cell_type": "code",
   "execution_count": null,
   "id": "71f59fe4",
   "metadata": {},
   "outputs": [],
   "source": []
  },
  {
   "cell_type": "code",
   "execution_count": null,
   "id": "89576e1e",
   "metadata": {},
   "outputs": [],
   "source": []
  },
  {
   "cell_type": "code",
   "execution_count": 13,
   "id": "64737629",
   "metadata": {},
   "outputs": [],
   "source": [
    "from sklearn.model_selection import KFold\n",
    "from sklearn.linear_model import LinearRegression"
   ]
  },
  {
   "cell_type": "code",
   "execution_count": 134,
   "id": "57d3f620",
   "metadata": {},
   "outputs": [],
   "source": [
    "selector = KFold(n_splits = 4)"
   ]
  },
  {
   "cell_type": "code",
   "execution_count": 18,
   "id": "9d89441e",
   "metadata": {},
   "outputs": [],
   "source": [
    "Losses_Test = []\n",
    "\n",
    "for train_index, test_index in selector.split(X):\n",
    "    X_train, X_test = X.values[train_index], X.values[test_index]\n",
    "    Y_train, Y_test = Y.values[train_index], Y.values[test_index]\n",
    "    \n",
    "    mod = LinearRegression()\n",
    "    mod.fit(X_train, Y_train)\n",
    "    \n",
    "    Losses_Test.append(np.mean((mod.predict(X_test) - Y_test)**2))"
   ]
  },
  {
   "cell_type": "code",
   "execution_count": 22,
   "id": "6cd66681",
   "metadata": {},
   "outputs": [
    {
     "data": {
      "text/plain": [
       "0.4257993989483306"
      ]
     },
     "execution_count": 22,
     "metadata": {},
     "output_type": "execute_result"
    }
   ],
   "source": [
    "LMSE = np.mean(Losses_Test)\n",
    "LMSE"
   ]
  },
  {
   "cell_type": "markdown",
   "id": "30a7ff0f",
   "metadata": {},
   "source": [
    "# TASK_6"
   ]
  },
  {
   "cell_type": "code",
   "execution_count": 26,
   "id": "f6f1cb86",
   "metadata": {
    "scrolled": true
   },
   "outputs": [
    {
     "data": {
      "text/html": [
       "<div>\n",
       "<style scoped>\n",
       "    .dataframe tbody tr th:only-of-type {\n",
       "        vertical-align: middle;\n",
       "    }\n",
       "\n",
       "    .dataframe tbody tr th {\n",
       "        vertical-align: top;\n",
       "    }\n",
       "\n",
       "    .dataframe thead th {\n",
       "        text-align: right;\n",
       "    }\n",
       "</style>\n",
       "<table border=\"1\" class=\"dataframe\">\n",
       "  <thead>\n",
       "    <tr style=\"text-align: right;\">\n",
       "      <th></th>\n",
       "      <th>vendor_id</th>\n",
       "      <th>passenger_count</th>\n",
       "      <th>store_and_fwd_flag</th>\n",
       "      <th>distance_km</th>\n",
       "      <th>log_trip_duration</th>\n",
       "      <th>feature_1</th>\n",
       "      <th>feature_2</th>\n",
       "      <th>feature_3</th>\n",
       "      <th>feature_4</th>\n",
       "      <th>feature_5</th>\n",
       "      <th>...</th>\n",
       "      <th>feature_11</th>\n",
       "      <th>feature_12</th>\n",
       "      <th>feature_13</th>\n",
       "      <th>feature_14</th>\n",
       "      <th>feature_15</th>\n",
       "      <th>feature_16</th>\n",
       "      <th>feature_17</th>\n",
       "      <th>feature_18</th>\n",
       "      <th>feature_19</th>\n",
       "      <th>feature_20</th>\n",
       "    </tr>\n",
       "    <tr>\n",
       "      <th>id</th>\n",
       "      <th></th>\n",
       "      <th></th>\n",
       "      <th></th>\n",
       "      <th></th>\n",
       "      <th></th>\n",
       "      <th></th>\n",
       "      <th></th>\n",
       "      <th></th>\n",
       "      <th></th>\n",
       "      <th></th>\n",
       "      <th></th>\n",
       "      <th></th>\n",
       "      <th></th>\n",
       "      <th></th>\n",
       "      <th></th>\n",
       "      <th></th>\n",
       "      <th></th>\n",
       "      <th></th>\n",
       "      <th></th>\n",
       "      <th></th>\n",
       "      <th></th>\n",
       "    </tr>\n",
       "  </thead>\n",
       "  <tbody>\n",
       "    <tr>\n",
       "      <th>id2875421</th>\n",
       "      <td>1</td>\n",
       "      <td>930.399753</td>\n",
       "      <td>0</td>\n",
       "      <td>1.500479</td>\n",
       "      <td>6.122493</td>\n",
       "      <td>1</td>\n",
       "      <td>1</td>\n",
       "      <td>1</td>\n",
       "      <td>1</td>\n",
       "      <td>1</td>\n",
       "      <td>...</td>\n",
       "      <td>0</td>\n",
       "      <td>0</td>\n",
       "      <td>0</td>\n",
       "      <td>0</td>\n",
       "      <td>0</td>\n",
       "      <td>1.500479</td>\n",
       "      <td>2.251437</td>\n",
       "      <td>3.378234</td>\n",
       "      <td>5.068969</td>\n",
       "      <td>7.605881</td>\n",
       "    </tr>\n",
       "    <tr>\n",
       "      <th>id2377394</th>\n",
       "      <td>0</td>\n",
       "      <td>930.399753</td>\n",
       "      <td>0</td>\n",
       "      <td>1.807119</td>\n",
       "      <td>6.498282</td>\n",
       "      <td>0</td>\n",
       "      <td>0</td>\n",
       "      <td>0</td>\n",
       "      <td>0</td>\n",
       "      <td>0</td>\n",
       "      <td>...</td>\n",
       "      <td>0</td>\n",
       "      <td>0</td>\n",
       "      <td>0</td>\n",
       "      <td>0</td>\n",
       "      <td>0</td>\n",
       "      <td>1.807119</td>\n",
       "      <td>3.265681</td>\n",
       "      <td>5.901475</td>\n",
       "      <td>10.664670</td>\n",
       "      <td>19.272331</td>\n",
       "    </tr>\n",
       "    <tr>\n",
       "      <th>id3858529</th>\n",
       "      <td>1</td>\n",
       "      <td>930.399753</td>\n",
       "      <td>0</td>\n",
       "      <td>6.392080</td>\n",
       "      <td>7.661527</td>\n",
       "      <td>1</td>\n",
       "      <td>1</td>\n",
       "      <td>1</td>\n",
       "      <td>1</td>\n",
       "      <td>1</td>\n",
       "      <td>...</td>\n",
       "      <td>0</td>\n",
       "      <td>0</td>\n",
       "      <td>0</td>\n",
       "      <td>0</td>\n",
       "      <td>0</td>\n",
       "      <td>6.392080</td>\n",
       "      <td>40.858690</td>\n",
       "      <td>261.172025</td>\n",
       "      <td>1669.432545</td>\n",
       "      <td>10671.146803</td>\n",
       "    </tr>\n",
       "    <tr>\n",
       "      <th>id3504673</th>\n",
       "      <td>1</td>\n",
       "      <td>930.399753</td>\n",
       "      <td>0</td>\n",
       "      <td>1.487155</td>\n",
       "      <td>6.063785</td>\n",
       "      <td>1</td>\n",
       "      <td>1</td>\n",
       "      <td>1</td>\n",
       "      <td>1</td>\n",
       "      <td>1</td>\n",
       "      <td>...</td>\n",
       "      <td>0</td>\n",
       "      <td>0</td>\n",
       "      <td>0</td>\n",
       "      <td>0</td>\n",
       "      <td>0</td>\n",
       "      <td>1.487155</td>\n",
       "      <td>2.211629</td>\n",
       "      <td>3.289035</td>\n",
       "      <td>4.891303</td>\n",
       "      <td>7.274125</td>\n",
       "    </tr>\n",
       "    <tr>\n",
       "      <th>id2181028</th>\n",
       "      <td>1</td>\n",
       "      <td>930.399753</td>\n",
       "      <td>0</td>\n",
       "      <td>1.189925</td>\n",
       "      <td>6.077642</td>\n",
       "      <td>1</td>\n",
       "      <td>1</td>\n",
       "      <td>1</td>\n",
       "      <td>1</td>\n",
       "      <td>1</td>\n",
       "      <td>...</td>\n",
       "      <td>0</td>\n",
       "      <td>0</td>\n",
       "      <td>0</td>\n",
       "      <td>0</td>\n",
       "      <td>0</td>\n",
       "      <td>1.189925</td>\n",
       "      <td>1.415923</td>\n",
       "      <td>1.684842</td>\n",
       "      <td>2.004837</td>\n",
       "      <td>2.385606</td>\n",
       "    </tr>\n",
       "  </tbody>\n",
       "</table>\n",
       "<p>5 rows × 25 columns</p>\n",
       "</div>"
      ],
      "text/plain": [
       "           vendor_id  passenger_count  store_and_fwd_flag  distance_km  \\\n",
       "id                                                                       \n",
       "id2875421          1       930.399753                   0     1.500479   \n",
       "id2377394          0       930.399753                   0     1.807119   \n",
       "id3858529          1       930.399753                   0     6.392080   \n",
       "id3504673          1       930.399753                   0     1.487155   \n",
       "id2181028          1       930.399753                   0     1.189925   \n",
       "\n",
       "           log_trip_duration  feature_1  feature_2  feature_3  feature_4  \\\n",
       "id                                                                         \n",
       "id2875421           6.122493          1          1          1          1   \n",
       "id2377394           6.498282          0          0          0          0   \n",
       "id3858529           7.661527          1          1          1          1   \n",
       "id3504673           6.063785          1          1          1          1   \n",
       "id2181028           6.077642          1          1          1          1   \n",
       "\n",
       "           feature_5  ...  feature_11  feature_12  feature_13  feature_14  \\\n",
       "id                    ...                                                   \n",
       "id2875421          1  ...           0           0           0           0   \n",
       "id2377394          0  ...           0           0           0           0   \n",
       "id3858529          1  ...           0           0           0           0   \n",
       "id3504673          1  ...           0           0           0           0   \n",
       "id2181028          1  ...           0           0           0           0   \n",
       "\n",
       "           feature_15  feature_16  feature_17  feature_18   feature_19  \\\n",
       "id                                                                       \n",
       "id2875421           0    1.500479    2.251437    3.378234     5.068969   \n",
       "id2377394           0    1.807119    3.265681    5.901475    10.664670   \n",
       "id3858529           0    6.392080   40.858690  261.172025  1669.432545   \n",
       "id3504673           0    1.487155    2.211629    3.289035     4.891303   \n",
       "id2181028           0    1.189925    1.415923    1.684842     2.004837   \n",
       "\n",
       "             feature_20  \n",
       "id                       \n",
       "id2875421      7.605881  \n",
       "id2377394     19.272331  \n",
       "id3858529  10671.146803  \n",
       "id3504673      7.274125  \n",
       "id2181028      2.385606  \n",
       "\n",
       "[5 rows x 25 columns]"
      ]
     },
     "execution_count": 26,
     "metadata": {},
     "output_type": "execute_result"
    }
   ],
   "source": [
    "new_features = pd.read_csv('new_data.csv', index_col = 'id')\n",
    "new_features.head()"
   ]
  },
  {
   "cell_type": "code",
   "execution_count": 135,
   "id": "aaaf788e",
   "metadata": {},
   "outputs": [],
   "source": [
    "X = new_features.drop('log_trip_duration', axis = 1)\n",
    "Y = new_features['log_trip_duration']"
   ]
  },
  {
   "cell_type": "code",
   "execution_count": 136,
   "id": "7e66ee75",
   "metadata": {},
   "outputs": [
    {
     "data": {
      "text/plain": [
       "[718.4257830239494,\n",
       " 0.3465893975846683,\n",
       " 0.34825704731351814,\n",
       " 13.621184140456336,\n",
       " 0.34472513569483815]"
      ]
     },
     "execution_count": 136,
     "metadata": {},
     "output_type": "execute_result"
    }
   ],
   "source": [
    "los_test = []\n",
    "\n",
    "select = KFold(n_splits = 5)\n",
    "\n",
    "for train_index, test_index in select.split(X):\n",
    "    X_train, X_test = X.values[train_index], X.values[test_index]\n",
    "    Y_train, Y_test = Y.values[train_index], Y.values[test_index]\n",
    "    \n",
    "    mod = LinearRegression()\n",
    "    mod.fit(X_train, Y_train)\n",
    "    los_test.append(np.mean((mod.predict(X_test) - Y_test)**2))\n",
    "    \n",
    "los_test"
   ]
  },
  {
   "cell_type": "code",
   "execution_count": 86,
   "id": "10f719b9",
   "metadata": {},
   "outputs": [
    {
     "data": {
      "text/plain": [
       "146.61730774899974"
      ]
     },
     "execution_count": 86,
     "metadata": {},
     "output_type": "execute_result"
    }
   ],
   "source": [
    "np.mean(los_test)"
   ]
  },
  {
   "cell_type": "markdown",
   "id": "8b8db14d",
   "metadata": {},
   "source": [
    "# TASK_7"
   ]
  },
  {
   "cell_type": "code",
   "execution_count": 34,
   "id": "c45248c5",
   "metadata": {},
   "outputs": [
    {
     "data": {
      "text/plain": [
       "(1458644, 24)"
      ]
     },
     "execution_count": 34,
     "metadata": {},
     "output_type": "execute_result"
    }
   ],
   "source": [
    "X.shape"
   ]
  },
  {
   "cell_type": "code",
   "execution_count": 32,
   "id": "f13aeb08",
   "metadata": {},
   "outputs": [
    {
     "data": {
      "text/plain": [
       "5"
      ]
     },
     "execution_count": 32,
     "metadata": {},
     "output_type": "execute_result"
    }
   ],
   "source": [
    "np.linalg.matrix_rank(X)"
   ]
  },
  {
   "cell_type": "markdown",
   "id": "3ab65185",
   "metadata": {},
   "source": [
    "# TASK_8"
   ]
  },
  {
   "cell_type": "code",
   "execution_count": null,
   "id": "de917efd",
   "metadata": {},
   "outputs": [],
   "source": []
  },
  {
   "cell_type": "code",
   "execution_count": 167,
   "id": "c4667cf2",
   "metadata": {},
   "outputs": [],
   "source": [
    "from sklearn.preprocessing import MinMaxScaler\n",
    "from sklearn.linear_model import Lasso"
   ]
  },
  {
   "cell_type": "markdown",
   "id": "3fc176cc",
   "metadata": {},
   "source": [
    "# Lasso. Example."
   ]
  },
  {
   "cell_type": "code",
   "execution_count": 145,
   "id": "2b8ffc1e",
   "metadata": {},
   "outputs": [
    {
     "data": {
      "text/html": [
       "<div>\n",
       "<style scoped>\n",
       "    .dataframe tbody tr th:only-of-type {\n",
       "        vertical-align: middle;\n",
       "    }\n",
       "\n",
       "    .dataframe tbody tr th {\n",
       "        vertical-align: top;\n",
       "    }\n",
       "\n",
       "    .dataframe thead th {\n",
       "        text-align: right;\n",
       "    }\n",
       "</style>\n",
       "<table border=\"1\" class=\"dataframe\">\n",
       "  <thead>\n",
       "    <tr style=\"text-align: right;\">\n",
       "      <th></th>\n",
       "      <th>vendor_id</th>\n",
       "      <th>passenger_count</th>\n",
       "      <th>store_and_fwd_flag</th>\n",
       "      <th>distance_km</th>\n",
       "      <th>log_trip_duration</th>\n",
       "      <th>feature_1</th>\n",
       "      <th>feature_2</th>\n",
       "      <th>feature_3</th>\n",
       "      <th>feature_4</th>\n",
       "      <th>feature_5</th>\n",
       "      <th>...</th>\n",
       "      <th>feature_11</th>\n",
       "      <th>feature_12</th>\n",
       "      <th>feature_13</th>\n",
       "      <th>feature_14</th>\n",
       "      <th>feature_15</th>\n",
       "      <th>feature_16</th>\n",
       "      <th>feature_17</th>\n",
       "      <th>feature_18</th>\n",
       "      <th>feature_19</th>\n",
       "      <th>feature_20</th>\n",
       "    </tr>\n",
       "    <tr>\n",
       "      <th>id</th>\n",
       "      <th></th>\n",
       "      <th></th>\n",
       "      <th></th>\n",
       "      <th></th>\n",
       "      <th></th>\n",
       "      <th></th>\n",
       "      <th></th>\n",
       "      <th></th>\n",
       "      <th></th>\n",
       "      <th></th>\n",
       "      <th></th>\n",
       "      <th></th>\n",
       "      <th></th>\n",
       "      <th></th>\n",
       "      <th></th>\n",
       "      <th></th>\n",
       "      <th></th>\n",
       "      <th></th>\n",
       "      <th></th>\n",
       "      <th></th>\n",
       "      <th></th>\n",
       "    </tr>\n",
       "  </thead>\n",
       "  <tbody>\n",
       "    <tr>\n",
       "      <th>id2875421</th>\n",
       "      <td>1</td>\n",
       "      <td>930.399753</td>\n",
       "      <td>0</td>\n",
       "      <td>1.500479</td>\n",
       "      <td>6.122493</td>\n",
       "      <td>1</td>\n",
       "      <td>1</td>\n",
       "      <td>1</td>\n",
       "      <td>1</td>\n",
       "      <td>1</td>\n",
       "      <td>...</td>\n",
       "      <td>0</td>\n",
       "      <td>0</td>\n",
       "      <td>0</td>\n",
       "      <td>0</td>\n",
       "      <td>0</td>\n",
       "      <td>1.500479</td>\n",
       "      <td>2.251437</td>\n",
       "      <td>3.378234</td>\n",
       "      <td>5.068969</td>\n",
       "      <td>7.605881</td>\n",
       "    </tr>\n",
       "    <tr>\n",
       "      <th>id2377394</th>\n",
       "      <td>0</td>\n",
       "      <td>930.399753</td>\n",
       "      <td>0</td>\n",
       "      <td>1.807119</td>\n",
       "      <td>6.498282</td>\n",
       "      <td>0</td>\n",
       "      <td>0</td>\n",
       "      <td>0</td>\n",
       "      <td>0</td>\n",
       "      <td>0</td>\n",
       "      <td>...</td>\n",
       "      <td>0</td>\n",
       "      <td>0</td>\n",
       "      <td>0</td>\n",
       "      <td>0</td>\n",
       "      <td>0</td>\n",
       "      <td>1.807119</td>\n",
       "      <td>3.265681</td>\n",
       "      <td>5.901475</td>\n",
       "      <td>10.664670</td>\n",
       "      <td>19.272331</td>\n",
       "    </tr>\n",
       "    <tr>\n",
       "      <th>id3858529</th>\n",
       "      <td>1</td>\n",
       "      <td>930.399753</td>\n",
       "      <td>0</td>\n",
       "      <td>6.392080</td>\n",
       "      <td>7.661527</td>\n",
       "      <td>1</td>\n",
       "      <td>1</td>\n",
       "      <td>1</td>\n",
       "      <td>1</td>\n",
       "      <td>1</td>\n",
       "      <td>...</td>\n",
       "      <td>0</td>\n",
       "      <td>0</td>\n",
       "      <td>0</td>\n",
       "      <td>0</td>\n",
       "      <td>0</td>\n",
       "      <td>6.392080</td>\n",
       "      <td>40.858690</td>\n",
       "      <td>261.172025</td>\n",
       "      <td>1669.432545</td>\n",
       "      <td>10671.146803</td>\n",
       "    </tr>\n",
       "    <tr>\n",
       "      <th>id3504673</th>\n",
       "      <td>1</td>\n",
       "      <td>930.399753</td>\n",
       "      <td>0</td>\n",
       "      <td>1.487155</td>\n",
       "      <td>6.063785</td>\n",
       "      <td>1</td>\n",
       "      <td>1</td>\n",
       "      <td>1</td>\n",
       "      <td>1</td>\n",
       "      <td>1</td>\n",
       "      <td>...</td>\n",
       "      <td>0</td>\n",
       "      <td>0</td>\n",
       "      <td>0</td>\n",
       "      <td>0</td>\n",
       "      <td>0</td>\n",
       "      <td>1.487155</td>\n",
       "      <td>2.211629</td>\n",
       "      <td>3.289035</td>\n",
       "      <td>4.891303</td>\n",
       "      <td>7.274125</td>\n",
       "    </tr>\n",
       "    <tr>\n",
       "      <th>id2181028</th>\n",
       "      <td>1</td>\n",
       "      <td>930.399753</td>\n",
       "      <td>0</td>\n",
       "      <td>1.189925</td>\n",
       "      <td>6.077642</td>\n",
       "      <td>1</td>\n",
       "      <td>1</td>\n",
       "      <td>1</td>\n",
       "      <td>1</td>\n",
       "      <td>1</td>\n",
       "      <td>...</td>\n",
       "      <td>0</td>\n",
       "      <td>0</td>\n",
       "      <td>0</td>\n",
       "      <td>0</td>\n",
       "      <td>0</td>\n",
       "      <td>1.189925</td>\n",
       "      <td>1.415923</td>\n",
       "      <td>1.684842</td>\n",
       "      <td>2.004837</td>\n",
       "      <td>2.385606</td>\n",
       "    </tr>\n",
       "  </tbody>\n",
       "</table>\n",
       "<p>5 rows × 25 columns</p>\n",
       "</div>"
      ],
      "text/plain": [
       "           vendor_id  passenger_count  store_and_fwd_flag  distance_km  \\\n",
       "id                                                                       \n",
       "id2875421          1       930.399753                   0     1.500479   \n",
       "id2377394          0       930.399753                   0     1.807119   \n",
       "id3858529          1       930.399753                   0     6.392080   \n",
       "id3504673          1       930.399753                   0     1.487155   \n",
       "id2181028          1       930.399753                   0     1.189925   \n",
       "\n",
       "           log_trip_duration  feature_1  feature_2  feature_3  feature_4  \\\n",
       "id                                                                         \n",
       "id2875421           6.122493          1          1          1          1   \n",
       "id2377394           6.498282          0          0          0          0   \n",
       "id3858529           7.661527          1          1          1          1   \n",
       "id3504673           6.063785          1          1          1          1   \n",
       "id2181028           6.077642          1          1          1          1   \n",
       "\n",
       "           feature_5  ...  feature_11  feature_12  feature_13  feature_14  \\\n",
       "id                    ...                                                   \n",
       "id2875421          1  ...           0           0           0           0   \n",
       "id2377394          0  ...           0           0           0           0   \n",
       "id3858529          1  ...           0           0           0           0   \n",
       "id3504673          1  ...           0           0           0           0   \n",
       "id2181028          1  ...           0           0           0           0   \n",
       "\n",
       "           feature_15  feature_16  feature_17  feature_18   feature_19  \\\n",
       "id                                                                       \n",
       "id2875421           0    1.500479    2.251437    3.378234     5.068969   \n",
       "id2377394           0    1.807119    3.265681    5.901475    10.664670   \n",
       "id3858529           0    6.392080   40.858690  261.172025  1669.432545   \n",
       "id3504673           0    1.487155    2.211629    3.289035     4.891303   \n",
       "id2181028           0    1.189925    1.415923    1.684842     2.004837   \n",
       "\n",
       "             feature_20  \n",
       "id                       \n",
       "id2875421      7.605881  \n",
       "id2377394     19.272331  \n",
       "id3858529  10671.146803  \n",
       "id3504673      7.274125  \n",
       "id2181028      2.385606  \n",
       "\n",
       "[5 rows x 25 columns]"
      ]
     },
     "execution_count": 145,
     "metadata": {},
     "output_type": "execute_result"
    }
   ],
   "source": [
    "new_features = pd.read_csv('new_data.csv', index_col = 'id')\n",
    "new_features.head()"
   ]
  },
  {
   "cell_type": "code",
   "execution_count": 146,
   "id": "e9c9d522",
   "metadata": {},
   "outputs": [],
   "source": [
    "X = new_features.drop('log_trip_duration', axis = 1)\n",
    "Y = new_features['log_trip_duration']"
   ]
  },
  {
   "cell_type": "code",
   "execution_count": 206,
   "id": "281961d3",
   "metadata": {},
   "outputs": [
    {
     "name": "stdout",
     "output_type": "stream",
     "text": [
      "[0.39504630400686597]\n",
      "[0.39504630400686597, 0.3962081290218475]\n",
      "[0.39504630400686597, 0.3962081290218475, 0.4137916061082812]\n",
      "[0.39504630400686597, 0.3962081290218475, 0.4137916061082812, 0.39249622519550437]\n",
      "MSLE на кросс-валидации равен: 0.39938556608312475\n"
     ]
    }
   ],
   "source": [
    "scores = []\n",
    "\n",
    "selector = KFold(n_splits = 4)\n",
    "\n",
    "for train_index, test_index in selector.split(X):\n",
    "    \n",
    "    X_train, X_test = X.values[train_index], X.values[test_index]\n",
    "    Y_train, Y_test = Y.values[train_index], Y.values[test_index]\n",
    "    \n",
    "    scaler = MinMaxScaler()\n",
    "    scaler.fit(X_train)\n",
    "    \n",
    "    X_train_scaled = scaler.transform(X_train)\n",
    "    X_test_scaled = scaler.transform(X_test)\n",
    "    \n",
    "    model_lasso = Lasso(alpha=0.00007, max_iter=100000)\n",
    "    model_lasso.fit(X_train_scaled, Y_train)\n",
    "    \n",
    "    predictions = model_lasso.predict(X_test_scaled)\n",
    "    \n",
    "    scores.append(np.mean((predictions - Y_test)**2))\n",
    "    print(scores)\n",
    "    \n",
    "print(f'MSLE на кросс-валидации равен: {np.mean(scores)}')"
   ]
  },
  {
   "cell_type": "code",
   "execution_count": 207,
   "id": "23ffb36d",
   "metadata": {},
   "outputs": [
    {
     "data": {
      "text/plain": [
       "7e-05"
      ]
     },
     "execution_count": 207,
     "metadata": {},
     "output_type": "execute_result"
    }
   ],
   "source": [
    "model_lasso.alpha"
   ]
  },
  {
   "cell_type": "markdown",
   "id": "e805bd4c",
   "metadata": {},
   "source": [
    "# Ridge. Example."
   ]
  },
  {
   "cell_type": "code",
   "execution_count": 64,
   "id": "04818f9a",
   "metadata": {},
   "outputs": [],
   "source": [
    "from sklearn.linear_model import Ridge"
   ]
  },
  {
   "cell_type": "code",
   "execution_count": 165,
   "id": "18aa7412",
   "metadata": {},
   "outputs": [],
   "source": [
    "selector = KFold(n_splits = 4)"
   ]
  },
  {
   "cell_type": "code",
   "execution_count": 222,
   "id": "dfc34634",
   "metadata": {},
   "outputs": [
    {
     "name": "stdout",
     "output_type": "stream",
     "text": [
      "MSLE на кросс-валидации при использовании Ridge на тесте равен: 0.39999213109653736\n"
     ]
    }
   ],
   "source": [
    "scores = []\n",
    "scores_train = []\n",
    "\n",
    "for train_index, test_index in selector.split(X):\n",
    "    X_train, X_test = X.values[train_index], X.values[test_index]\n",
    "    Y_train, Y_test = Y.values[train_index], Y.values[test_index]\n",
    "    \n",
    "    scaler = MinMaxScaler()\n",
    "    scaler.fit(X_train)\n",
    "    \n",
    "    X_train_scaled = scaler.transform(X_train)\n",
    "    X_test_scaled = scaler.transform(X_test)\n",
    "    \n",
    "    model_ridge = Ridge(alpha=0.401, max_iter=100000)\n",
    "    model_ridge.fit(X_train_scaled, Y_train)\n",
    "    \n",
    "    predictions = model_ridge.predict(X_test_scaled)\n",
    "    #predictions_train = model_ridge.predict(X_train_scaled)\n",
    "    \n",
    "    scores.append(np.mean((predictions - Y_test)**2))\n",
    "    #scores_train.append(np.mean((predictions_train - Y_train)**2))\n",
    "    \n",
    "print(f'MSLE на кросс-валидации при использовании Ridge на тесте равен: {np.mean(scores)}')\n",
    "#print(f'MSLE на кросс-валидации при использовании Ridge на трейне равен: {np.mean(scores_train)}')"
   ]
  },
  {
   "cell_type": "code",
   "execution_count": null,
   "id": "ea66a058",
   "metadata": {},
   "outputs": [],
   "source": []
  },
  {
   "cell_type": "code",
   "execution_count": null,
   "id": "308cb8df",
   "metadata": {},
   "outputs": [],
   "source": []
  },
  {
   "cell_type": "code",
   "execution_count": null,
   "id": "57ac2cf5",
   "metadata": {},
   "outputs": [],
   "source": []
  },
  {
   "cell_type": "code",
   "execution_count": null,
   "id": "905a3573",
   "metadata": {},
   "outputs": [],
   "source": []
  },
  {
   "cell_type": "code",
   "execution_count": null,
   "id": "9b399880",
   "metadata": {},
   "outputs": [],
   "source": []
  },
  {
   "cell_type": "code",
   "execution_count": null,
   "id": "7c41d933",
   "metadata": {},
   "outputs": [],
   "source": []
  },
  {
   "cell_type": "code",
   "execution_count": null,
   "id": "0809fc71",
   "metadata": {},
   "outputs": [],
   "source": []
  }
 ],
 "metadata": {
  "kernelspec": {
   "display_name": "Python 3 (ipykernel)",
   "language": "python",
   "name": "python3"
  },
  "language_info": {
   "codemirror_mode": {
    "name": "ipython",
    "version": 3
   },
   "file_extension": ".py",
   "mimetype": "text/x-python",
   "name": "python",
   "nbconvert_exporter": "python",
   "pygments_lexer": "ipython3",
   "version": "3.9.6"
  }
 },
 "nbformat": 4,
 "nbformat_minor": 5
}
