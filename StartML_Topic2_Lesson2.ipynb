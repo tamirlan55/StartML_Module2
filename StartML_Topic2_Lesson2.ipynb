{
 "cells": [
  {
   "cell_type": "code",
   "execution_count": 2,
   "id": "cd1ecf5a",
   "metadata": {},
   "outputs": [],
   "source": [
    "import pandas as pd\n",
    "import numpy as np\n"
   ]
  },
  {
   "cell_type": "code",
   "execution_count": 5,
   "id": "eee09c0d",
   "metadata": {},
   "outputs": [],
   "source": [
    "df = pd.read_csv('taxi_dataset_with_predictions.csv')"
   ]
  },
  {
   "cell_type": "code",
   "execution_count": 6,
   "id": "4613bacd",
   "metadata": {},
   "outputs": [
    {
     "data": {
      "text/html": [
       "<div>\n",
       "<style scoped>\n",
       "    .dataframe tbody tr th:only-of-type {\n",
       "        vertical-align: middle;\n",
       "    }\n",
       "\n",
       "    .dataframe tbody tr th {\n",
       "        vertical-align: top;\n",
       "    }\n",
       "\n",
       "    .dataframe thead th {\n",
       "        text-align: right;\n",
       "    }\n",
       "</style>\n",
       "<table border=\"1\" class=\"dataframe\">\n",
       "  <thead>\n",
       "    <tr style=\"text-align: right;\">\n",
       "      <th></th>\n",
       "      <th>id</th>\n",
       "      <th>vendor_id</th>\n",
       "      <th>pickup_datetime</th>\n",
       "      <th>passenger_count</th>\n",
       "      <th>store_and_fwd_flag</th>\n",
       "      <th>trip_duration</th>\n",
       "      <th>distance_km</th>\n",
       "      <th>prediction_1</th>\n",
       "      <th>prediction_2</th>\n",
       "    </tr>\n",
       "  </thead>\n",
       "  <tbody>\n",
       "    <tr>\n",
       "      <th>0</th>\n",
       "      <td>id2875421</td>\n",
       "      <td>1</td>\n",
       "      <td>2016-03-14 17:24:55</td>\n",
       "      <td>930.399753</td>\n",
       "      <td>0</td>\n",
       "      <td>455.0</td>\n",
       "      <td>1.500479</td>\n",
       "      <td>578.156451</td>\n",
       "      <td>355.270710</td>\n",
       "    </tr>\n",
       "    <tr>\n",
       "      <th>1</th>\n",
       "      <td>id2377394</td>\n",
       "      <td>0</td>\n",
       "      <td>2016-06-12 00:43:35</td>\n",
       "      <td>930.399753</td>\n",
       "      <td>0</td>\n",
       "      <td>663.0</td>\n",
       "      <td>1.807119</td>\n",
       "      <td>962.657188</td>\n",
       "      <td>674.295781</td>\n",
       "    </tr>\n",
       "    <tr>\n",
       "      <th>2</th>\n",
       "      <td>id3858529</td>\n",
       "      <td>1</td>\n",
       "      <td>2016-01-19 11:35:24</td>\n",
       "      <td>930.399753</td>\n",
       "      <td>0</td>\n",
       "      <td>2124.0</td>\n",
       "      <td>6.392080</td>\n",
       "      <td>2546.180515</td>\n",
       "      <td>2422.132431</td>\n",
       "    </tr>\n",
       "    <tr>\n",
       "      <th>3</th>\n",
       "      <td>id3504673</td>\n",
       "      <td>1</td>\n",
       "      <td>2016-04-06 19:32:31</td>\n",
       "      <td>930.399753</td>\n",
       "      <td>0</td>\n",
       "      <td>429.0</td>\n",
       "      <td>1.487155</td>\n",
       "      <td>737.926214</td>\n",
       "      <td>795.992362</td>\n",
       "    </tr>\n",
       "    <tr>\n",
       "      <th>4</th>\n",
       "      <td>id2181028</td>\n",
       "      <td>1</td>\n",
       "      <td>2016-03-26 13:30:55</td>\n",
       "      <td>930.399753</td>\n",
       "      <td>0</td>\n",
       "      <td>435.0</td>\n",
       "      <td>1.189925</td>\n",
       "      <td>666.070794</td>\n",
       "      <td>-4.158492</td>\n",
       "    </tr>\n",
       "    <tr>\n",
       "      <th>5</th>\n",
       "      <td>id0801584</td>\n",
       "      <td>1</td>\n",
       "      <td>2016-01-30 22:01:40</td>\n",
       "      <td>1061.355223</td>\n",
       "      <td>0</td>\n",
       "      <td>443.0</td>\n",
       "      <td>1.100107</td>\n",
       "      <td>599.836514</td>\n",
       "      <td>229.013426</td>\n",
       "    </tr>\n",
       "    <tr>\n",
       "      <th>6</th>\n",
       "      <td>id1813257</td>\n",
       "      <td>0</td>\n",
       "      <td>2016-06-17 22:34:59</td>\n",
       "      <td>1053.529749</td>\n",
       "      <td>0</td>\n",
       "      <td>341.0</td>\n",
       "      <td>1.327852</td>\n",
       "      <td>582.154343</td>\n",
       "      <td>782.213025</td>\n",
       "    </tr>\n",
       "    <tr>\n",
       "      <th>7</th>\n",
       "      <td>id1324603</td>\n",
       "      <td>1</td>\n",
       "      <td>2016-05-21 07:54:58</td>\n",
       "      <td>930.399753</td>\n",
       "      <td>0</td>\n",
       "      <td>1551.0</td>\n",
       "      <td>5.722427</td>\n",
       "      <td>1861.641036</td>\n",
       "      <td>2240.733287</td>\n",
       "    </tr>\n",
       "    <tr>\n",
       "      <th>8</th>\n",
       "      <td>id1301050</td>\n",
       "      <td>0</td>\n",
       "      <td>2016-05-27 23:12:23</td>\n",
       "      <td>930.399753</td>\n",
       "      <td>0</td>\n",
       "      <td>255.0</td>\n",
       "      <td>1.311541</td>\n",
       "      <td>588.814557</td>\n",
       "      <td>673.182210</td>\n",
       "    </tr>\n",
       "    <tr>\n",
       "      <th>9</th>\n",
       "      <td>id0012891</td>\n",
       "      <td>1</td>\n",
       "      <td>2016-03-10 21:45:01</td>\n",
       "      <td>930.399753</td>\n",
       "      <td>0</td>\n",
       "      <td>1225.0</td>\n",
       "      <td>5.126939</td>\n",
       "      <td>1467.752477</td>\n",
       "      <td>1545.515488</td>\n",
       "    </tr>\n",
       "  </tbody>\n",
       "</table>\n",
       "</div>"
      ],
      "text/plain": [
       "          id  vendor_id      pickup_datetime  passenger_count  \\\n",
       "0  id2875421          1  2016-03-14 17:24:55       930.399753   \n",
       "1  id2377394          0  2016-06-12 00:43:35       930.399753   \n",
       "2  id3858529          1  2016-01-19 11:35:24       930.399753   \n",
       "3  id3504673          1  2016-04-06 19:32:31       930.399753   \n",
       "4  id2181028          1  2016-03-26 13:30:55       930.399753   \n",
       "5  id0801584          1  2016-01-30 22:01:40      1061.355223   \n",
       "6  id1813257          0  2016-06-17 22:34:59      1053.529749   \n",
       "7  id1324603          1  2016-05-21 07:54:58       930.399753   \n",
       "8  id1301050          0  2016-05-27 23:12:23       930.399753   \n",
       "9  id0012891          1  2016-03-10 21:45:01       930.399753   \n",
       "\n",
       "   store_and_fwd_flag  trip_duration  distance_km  prediction_1  prediction_2  \n",
       "0                   0          455.0     1.500479    578.156451    355.270710  \n",
       "1                   0          663.0     1.807119    962.657188    674.295781  \n",
       "2                   0         2124.0     6.392080   2546.180515   2422.132431  \n",
       "3                   0          429.0     1.487155    737.926214    795.992362  \n",
       "4                   0          435.0     1.189925    666.070794     -4.158492  \n",
       "5                   0          443.0     1.100107    599.836514    229.013426  \n",
       "6                   0          341.0     1.327852    582.154343    782.213025  \n",
       "7                   0         1551.0     5.722427   1861.641036   2240.733287  \n",
       "8                   0          255.0     1.311541    588.814557    673.182210  \n",
       "9                   0         1225.0     5.126939   1467.752477   1545.515488  "
      ]
     },
     "execution_count": 6,
     "metadata": {},
     "output_type": "execute_result"
    }
   ],
   "source": [
    "df.head(10)"
   ]
  },
  {
   "cell_type": "markdown",
   "id": "ecb601ac",
   "metadata": {},
   "source": [
    "# MSE"
   ]
  },
  {
   "cell_type": "code",
   "execution_count": 9,
   "id": "f37375ac",
   "metadata": {},
   "outputs": [
    {
     "name": "stdout",
     "output_type": "stream",
     "text": [
      "99994.4510336451 124936.14931386831\n"
     ]
    }
   ],
   "source": [
    "MSE_1 = ((df['prediction_1'] - df['trip_duration'])**2).mean()\n",
    "MSE_2 = ((df['prediction_2'] - df['trip_duration'])**2).mean()\n",
    "print(MSE_1, MSE_2)"
   ]
  },
  {
   "cell_type": "markdown",
   "id": "6f6393f0",
   "metadata": {},
   "source": [
    "# RMSE"
   ]
  },
  {
   "cell_type": "code",
   "execution_count": 10,
   "id": "80a4929b",
   "metadata": {},
   "outputs": [
    {
     "name": "stdout",
     "output_type": "stream",
     "text": [
      "316.21899220895176 353.4630805527903\n"
     ]
    }
   ],
   "source": [
    "RMSE_1 = MSE_1**0.5\n",
    "RMSE_2 = MSE_2**0.5\n",
    "print(RMSE_1, RMSE_2)"
   ]
  },
  {
   "cell_type": "markdown",
   "id": "9efe7b74",
   "metadata": {},
   "source": [
    "# MAE"
   ]
  },
  {
   "cell_type": "code",
   "execution_count": 12,
   "id": "c96a33c8",
   "metadata": {},
   "outputs": [
    {
     "name": "stdout",
     "output_type": "stream",
     "text": [
      "300.08362668457136 281.9734452458987\n"
     ]
    }
   ],
   "source": [
    "MAE_1 = (abs(df['prediction_1'] - df['trip_duration'])).mean()\n",
    "MAE_2 = (abs(df['prediction_2'] - df['trip_duration'])).mean()\n",
    "print(MAE_1, MAE_2)"
   ]
  },
  {
   "cell_type": "markdown",
   "id": "3bec9175",
   "metadata": {},
   "source": [
    "# N errors > 500"
   ]
  },
  {
   "cell_type": "code",
   "execution_count": 17,
   "id": "0ff92917",
   "metadata": {},
   "outputs": [
    {
     "name": "stdout",
     "output_type": "stream",
     "text": [
      "33061\n"
     ]
    }
   ],
   "source": [
    "N_Errors1 = 0\n",
    "for i in range(len(df['trip_duration'])):\n",
    "    if abs(df['prediction_1'][i] - df['trip_duration'][i]) > 500:\n",
    "        N_Errors1 += 1\n",
    "        \n",
    "print(N_Errors1)"
   ]
  },
  {
   "cell_type": "code",
   "execution_count": 18,
   "id": "ffda9990",
   "metadata": {},
   "outputs": [
    {
     "name": "stdout",
     "output_type": "stream",
     "text": [
      "228789\n"
     ]
    }
   ],
   "source": [
    "N_Errors2 = 0\n",
    "for i in range(len(df['trip_duration'])):\n",
    "    if abs(df['prediction_2'][i] - df['trip_duration'][i]) > 500:\n",
    "        N_Errors2 += 1\n",
    "\n",
    "print(N_Errors2)"
   ]
  },
  {
   "cell_type": "markdown",
   "id": "8cfc7faf",
   "metadata": {},
   "source": [
    "# RMSLE"
   ]
  },
  {
   "cell_type": "code",
   "execution_count": 24,
   "id": "f0e7c1dc",
   "metadata": {},
   "outputs": [],
   "source": [
    "df['prediction_1'] = df['prediction_1'].apply(lambda x: max(x, 0))\n",
    "df['prediction_2'] = df['prediction_2'].apply(lambda x: max(x, 0))"
   ]
  },
  {
   "cell_type": "code",
   "execution_count": 32,
   "id": "ca0b1ed8",
   "metadata": {},
   "outputs": [
    {
     "name": "stdout",
     "output_type": "stream",
     "text": [
      "0.5537581774590482 1.5564340528341787\n"
     ]
    }
   ],
   "source": [
    "RMSLE_1 = (((np.log1p(df['prediction_1']) - np.log1p(df['trip_duration']))**2).mean())**0.5\n",
    "RMSLE_2 = np.sqrt(((np.log1p(df['prediction_2']) - np.log1p(df['trip_duration']))**2).mean())\n",
    "\n",
    "print(RMSLE_1, RMSLE_2)"
   ]
  },
  {
   "cell_type": "markdown",
   "id": "575bebec",
   "metadata": {},
   "source": [
    "# Перепредсказания и недопредсказания"
   ]
  },
  {
   "cell_type": "code",
   "execution_count": 36,
   "id": "6b2a35bc",
   "metadata": {},
   "outputs": [
    {
     "name": "stdout",
     "output_type": "stream",
     "text": [
      "1456721 1923\n",
      "811778 646866\n"
     ]
    }
   ],
   "source": [
    "pred1_plus = 0\n",
    "pred1_minus = 0\n",
    "for i in range(len(df['trip_duration'])):\n",
    "    if df['prediction_1'][i] - df['trip_duration'][i] > 0:\n",
    "        pred1_plus += 1\n",
    "    else:\n",
    "        pred1_minus += 1\n",
    "        \n",
    "print(pred1_plus, pred1_minus)\n",
    "\n",
    "pred2_plus = 0\n",
    "pred2_minus = 0\n",
    "for i in range(len(df['trip_duration'])):\n",
    "    if df['prediction_2'][i] - df['trip_duration'][i] > 0:\n",
    "        pred2_plus += 1\n",
    "    else:\n",
    "        pred2_minus += 1\n",
    "        \n",
    "print(pred2_plus, pred2_minus)"
   ]
  },
  {
   "cell_type": "code",
   "execution_count": null,
   "id": "70d68b64",
   "metadata": {},
   "outputs": [],
   "source": []
  },
  {
   "cell_type": "code",
   "execution_count": null,
   "id": "9eeeed2f",
   "metadata": {},
   "outputs": [],
   "source": []
  },
  {
   "cell_type": "code",
   "execution_count": null,
   "id": "ce65e615",
   "metadata": {},
   "outputs": [],
   "source": []
  },
  {
   "cell_type": "code",
   "execution_count": null,
   "id": "f4272343",
   "metadata": {},
   "outputs": [],
   "source": []
  }
 ],
 "metadata": {
  "kernelspec": {
   "display_name": "Python 3 (ipykernel)",
   "language": "python",
   "name": "python3"
  },
  "language_info": {
   "codemirror_mode": {
    "name": "ipython",
    "version": 3
   },
   "file_extension": ".py",
   "mimetype": "text/x-python",
   "name": "python",
   "nbconvert_exporter": "python",
   "pygments_lexer": "ipython3",
   "version": "3.9.10"
  }
 },
 "nbformat": 4,
 "nbformat_minor": 5
}
