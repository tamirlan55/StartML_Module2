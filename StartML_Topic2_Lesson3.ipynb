{
 "cells": [
  {
   "cell_type": "code",
   "execution_count": 1,
   "id": "464ef614",
   "metadata": {},
   "outputs": [],
   "source": [
    "import pandas as pd\n",
    "import numpy as np\n",
    "from sklearn.linear_model import LinearRegression\n"
   ]
  },
  {
   "cell_type": "markdown",
   "id": "9899e3bd",
   "metadata": {},
   "source": [
    "# LinearRegression"
   ]
  },
  {
   "cell_type": "code",
   "execution_count": 2,
   "id": "d10cf1d6",
   "metadata": {},
   "outputs": [
    {
     "data": {
      "text/html": [
       "<div>\n",
       "<style scoped>\n",
       "    .dataframe tbody tr th:only-of-type {\n",
       "        vertical-align: middle;\n",
       "    }\n",
       "\n",
       "    .dataframe tbody tr th {\n",
       "        vertical-align: top;\n",
       "    }\n",
       "\n",
       "    .dataframe thead th {\n",
       "        text-align: right;\n",
       "    }\n",
       "</style>\n",
       "<table border=\"1\" class=\"dataframe\">\n",
       "  <thead>\n",
       "    <tr style=\"text-align: right;\">\n",
       "      <th></th>\n",
       "      <th>id</th>\n",
       "      <th>vendor_id</th>\n",
       "      <th>pickup_datetime</th>\n",
       "      <th>passenger_count</th>\n",
       "      <th>store_and_fwd_flag</th>\n",
       "      <th>trip_duration</th>\n",
       "      <th>distance_km</th>\n",
       "    </tr>\n",
       "  </thead>\n",
       "  <tbody>\n",
       "    <tr>\n",
       "      <th>0</th>\n",
       "      <td>id2875421</td>\n",
       "      <td>1</td>\n",
       "      <td>2016-03-14 17:24:55</td>\n",
       "      <td>930.399753</td>\n",
       "      <td>0</td>\n",
       "      <td>455.0</td>\n",
       "      <td>1.500479</td>\n",
       "    </tr>\n",
       "    <tr>\n",
       "      <th>1</th>\n",
       "      <td>id2377394</td>\n",
       "      <td>0</td>\n",
       "      <td>2016-06-12 00:43:35</td>\n",
       "      <td>930.399753</td>\n",
       "      <td>0</td>\n",
       "      <td>663.0</td>\n",
       "      <td>1.807119</td>\n",
       "    </tr>\n",
       "    <tr>\n",
       "      <th>2</th>\n",
       "      <td>id3858529</td>\n",
       "      <td>1</td>\n",
       "      <td>2016-01-19 11:35:24</td>\n",
       "      <td>930.399753</td>\n",
       "      <td>0</td>\n",
       "      <td>2124.0</td>\n",
       "      <td>6.392080</td>\n",
       "    </tr>\n",
       "    <tr>\n",
       "      <th>3</th>\n",
       "      <td>id3504673</td>\n",
       "      <td>1</td>\n",
       "      <td>2016-04-06 19:32:31</td>\n",
       "      <td>930.399753</td>\n",
       "      <td>0</td>\n",
       "      <td>429.0</td>\n",
       "      <td>1.487155</td>\n",
       "    </tr>\n",
       "    <tr>\n",
       "      <th>4</th>\n",
       "      <td>id2181028</td>\n",
       "      <td>1</td>\n",
       "      <td>2016-03-26 13:30:55</td>\n",
       "      <td>930.399753</td>\n",
       "      <td>0</td>\n",
       "      <td>435.0</td>\n",
       "      <td>1.189925</td>\n",
       "    </tr>\n",
       "    <tr>\n",
       "      <th>5</th>\n",
       "      <td>id0801584</td>\n",
       "      <td>1</td>\n",
       "      <td>2016-01-30 22:01:40</td>\n",
       "      <td>1061.355223</td>\n",
       "      <td>0</td>\n",
       "      <td>443.0</td>\n",
       "      <td>1.100107</td>\n",
       "    </tr>\n",
       "    <tr>\n",
       "      <th>6</th>\n",
       "      <td>id1813257</td>\n",
       "      <td>0</td>\n",
       "      <td>2016-06-17 22:34:59</td>\n",
       "      <td>1053.529749</td>\n",
       "      <td>0</td>\n",
       "      <td>341.0</td>\n",
       "      <td>1.327852</td>\n",
       "    </tr>\n",
       "    <tr>\n",
       "      <th>7</th>\n",
       "      <td>id1324603</td>\n",
       "      <td>1</td>\n",
       "      <td>2016-05-21 07:54:58</td>\n",
       "      <td>930.399753</td>\n",
       "      <td>0</td>\n",
       "      <td>1551.0</td>\n",
       "      <td>5.722427</td>\n",
       "    </tr>\n",
       "    <tr>\n",
       "      <th>8</th>\n",
       "      <td>id1301050</td>\n",
       "      <td>0</td>\n",
       "      <td>2016-05-27 23:12:23</td>\n",
       "      <td>930.399753</td>\n",
       "      <td>0</td>\n",
       "      <td>255.0</td>\n",
       "      <td>1.311541</td>\n",
       "    </tr>\n",
       "    <tr>\n",
       "      <th>9</th>\n",
       "      <td>id0012891</td>\n",
       "      <td>1</td>\n",
       "      <td>2016-03-10 21:45:01</td>\n",
       "      <td>930.399753</td>\n",
       "      <td>0</td>\n",
       "      <td>1225.0</td>\n",
       "      <td>5.126939</td>\n",
       "    </tr>\n",
       "  </tbody>\n",
       "</table>\n",
       "</div>"
      ],
      "text/plain": [
       "          id  vendor_id      pickup_datetime  passenger_count  \\\n",
       "0  id2875421          1  2016-03-14 17:24:55       930.399753   \n",
       "1  id2377394          0  2016-06-12 00:43:35       930.399753   \n",
       "2  id3858529          1  2016-01-19 11:35:24       930.399753   \n",
       "3  id3504673          1  2016-04-06 19:32:31       930.399753   \n",
       "4  id2181028          1  2016-03-26 13:30:55       930.399753   \n",
       "5  id0801584          1  2016-01-30 22:01:40      1061.355223   \n",
       "6  id1813257          0  2016-06-17 22:34:59      1053.529749   \n",
       "7  id1324603          1  2016-05-21 07:54:58       930.399753   \n",
       "8  id1301050          0  2016-05-27 23:12:23       930.399753   \n",
       "9  id0012891          1  2016-03-10 21:45:01       930.399753   \n",
       "\n",
       "   store_and_fwd_flag  trip_duration  distance_km  \n",
       "0                   0          455.0     1.500479  \n",
       "1                   0          663.0     1.807119  \n",
       "2                   0         2124.0     6.392080  \n",
       "3                   0          429.0     1.487155  \n",
       "4                   0          435.0     1.189925  \n",
       "5                   0          443.0     1.100107  \n",
       "6                   0          341.0     1.327852  \n",
       "7                   0         1551.0     5.722427  \n",
       "8                   0          255.0     1.311541  \n",
       "9                   0         1225.0     5.126939  "
      ]
     },
     "execution_count": 2,
     "metadata": {},
     "output_type": "execute_result"
    }
   ],
   "source": [
    "df = pd.read_csv('taxi_dataset_with_target.csv')\n",
    "df.head(10)"
   ]
  },
  {
   "cell_type": "code",
   "execution_count": 3,
   "id": "843c54a4",
   "metadata": {},
   "outputs": [],
   "source": [
    "X = df[['vendor_id', 'passenger_count', 'store_and_fwd_flag', 'distance_km']]\n",
    "Y = df[['trip_duration']]"
   ]
  },
  {
   "cell_type": "code",
   "execution_count": 4,
   "id": "25c9b533",
   "metadata": {},
   "outputs": [],
   "source": [
    "model = LinearRegression().fit(X, Y)"
   ]
  },
  {
   "cell_type": "code",
   "execution_count": 5,
   "id": "e64b8a2c",
   "metadata": {},
   "outputs": [
    {
     "name": "stdout",
     "output_type": "stream",
     "text": [
      "[[198.46313674   0.29631295  56.46912165 115.27353763]] [171.65658146]\n"
     ]
    }
   ],
   "source": [
    "print(model.coef_, model.intercept_)"
   ]
  },
  {
   "cell_type": "markdown",
   "id": "08ef6f59",
   "metadata": {},
   "source": [
    "# Function LinearRegressionByMatrix"
   ]
  },
  {
   "cell_type": "code",
   "execution_count": null,
   "id": "70e88084",
   "metadata": {},
   "outputs": [],
   "source": [
    "Теперь реализуйте функцию LinearRegressionByMatrix, которая будет принимать на вход 3 параметра:\n",
    "\n",
    "Матрицу объект-признак (X), вектор с ответами (Y), булевый параметр fit_intercept, цель которого - добавить константный признак (состоящий из единичек), если True, и ничего не делать, если False.\n",
    "\n",
    "Функция должна вернуть одномерный np.array объект с оцененными  𝛽1,...,𝛽𝑛,𝛽0 \n",
    "\n",
    "Реализуйте решение через аналитическое решение в матрицах из лекции и практики:\n",
    "\n",
    "𝛽∗=(𝑋𝑇⋅𝑋)−1⋅𝑋𝑇⋅𝑌"
   ]
  },
  {
   "cell_type": "code",
   "execution_count": 4,
   "id": "7de80af1",
   "metadata": {},
   "outputs": [],
   "source": [
    "def LinearRegressionByMatrix(X: np.array, Y: np.array, fit_intercept: bool = True):\n",
    "    X = np.c_[X, np.ones(X.shape[0])]\n",
    "    return np.dot(np.dot(np.linalg.inv(np.dot(X.T, X)), X.T), Y)"
   ]
  },
  {
   "cell_type": "code",
   "execution_count": 5,
   "id": "d570528d",
   "metadata": {},
   "outputs": [
    {
     "name": "stdout",
     "output_type": "stream",
     "text": [
      "[[  1.         930.39975328   0.           1.50047895]\n",
      " [  0.         930.39975328   0.           1.80711941]\n",
      " [  1.         930.39975328   0.           6.39208025]\n",
      " ...\n",
      " [  1.         930.39975328   0.           7.83295239]\n",
      " [  0.         930.39975328   0.           1.09378613]\n",
      " [  0.         930.39975328   0.           1.13545341]]\n",
      "[ 455.  663. 2124. ...  764.  373.  198.]\n"
     ]
    }
   ],
   "source": [
    "X_train = df.drop(['trip_duration', 'pickup_datetime', 'id'], axis = 1).values\n",
    "Y_train = df['trip_duration'].values\n",
    "\n",
    "print(X_train)\n",
    "print(Y_train)"
   ]
  },
  {
   "cell_type": "code",
   "execution_count": 6,
   "id": "2eefbfad",
   "metadata": {},
   "outputs": [
    {
     "data": {
      "text/plain": [
       "array([198.46313674,   0.29631295,  56.46912165, 115.27353763,\n",
       "       171.65658145])"
      ]
     },
     "execution_count": 6,
     "metadata": {},
     "output_type": "execute_result"
    }
   ],
   "source": [
    "LinearRegressionByMatrix(X_train, Y_train, fit_intercept = True)"
   ]
  },
  {
   "cell_type": "code",
   "execution_count": null,
   "id": "7512c121",
   "metadata": {},
   "outputs": [],
   "source": []
  },
  {
   "cell_type": "code",
   "execution_count": null,
   "id": "d4a56ec5",
   "metadata": {},
   "outputs": [],
   "source": []
  },
  {
   "cell_type": "code",
   "execution_count": null,
   "id": "b2601e82",
   "metadata": {},
   "outputs": [],
   "source": []
  }
 ],
 "metadata": {
  "kernelspec": {
   "display_name": "Python 3 (ipykernel)",
   "language": "python",
   "name": "python3"
  },
  "language_info": {
   "codemirror_mode": {
    "name": "ipython",
    "version": 3
   },
   "file_extension": ".py",
   "mimetype": "text/x-python",
   "name": "python",
   "nbconvert_exporter": "python",
   "pygments_lexer": "ipython3",
   "version": "3.9.6"
  }
 },
 "nbformat": 4,
 "nbformat_minor": 5
}
